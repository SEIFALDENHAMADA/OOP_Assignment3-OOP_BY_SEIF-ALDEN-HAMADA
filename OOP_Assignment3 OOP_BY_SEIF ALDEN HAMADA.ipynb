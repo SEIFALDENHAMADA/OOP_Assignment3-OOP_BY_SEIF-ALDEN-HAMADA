{
 "cells": [
  {
   "cell_type": "markdown",
   "metadata": {},
   "source": [
    "# OOP 1st Assignment\n",
    "## Create a Python program that includes the following:\n",
    "\n",
    "1. A base class `Vehicle` with attributes `make`, `model`, and `year`. Include a method `vehicle_info()` that prints these details.\n",
    "2. A derived class `Car` that inherits from `Vehicle` and includes an additional attribute `fuel_type` and a method `car_info()` to print the fuel type.\n",
    "3. Another derived class `Motorcycle` that inherits from `Vehicle` and includes an additional attribute `engine_capacity` and a method `motorcycle_info()` to print the engine capacity.\n",
    "4. Create objects for both the `Car` and `Motorcycle` classes, initialize them with appropriate values, and call all their methods to display the details.\n"
   ]
  },
  {
   "cell_type": "code",
   "execution_count": 20,
   "metadata": {},
   "outputs": [
    {
     "name": "stdout",
     "output_type": "stream",
     "text": [
      "car_1:  CAR INFO ( Make: LiftBack, And the Model is: VANTOM, Car year is: 2024, and the fuel type is: Octane grade 95 fuel )\n",
      "bike_1:  MOTORCYCLE INFO ( Make: RACE, And the Model is: Kawasaki H2, Car year is: 2023, and the fuel type is: Octane grade 95 fuel, and the Engin Capacity is 1000 CC ).\n"
     ]
    }
   ],
   "source": [
    "class Vehicle:\n",
    "    def __init__(self, make=\"UNKNOWN\", model=\"UNKNOWN\", year=0):\n",
    "        self.make = make\n",
    "        self.model = model\n",
    "        self.year = year\n",
    "\n",
    "\n",
    "    def vehicle_info(self):\n",
    "        return f\"Make = {self.make}, And the Model is : {self.model}, Car year is: {self.year}\"\n",
    "    \n",
    "\n",
    "class Car(Vehicle):\n",
    "    def __init__(self, fuel_type, make=\"UNKNOWN\", model=\"UNKNOWN\", year=0):\n",
    "        super().__init__(make, model, year)\n",
    "        self.fuel_type = fuel_type\n",
    "\n",
    "\n",
    "    def car_info(self):\n",
    "        return f\"CAR INFO ( Make: {self.make}, And the Model is: {self.model}, Car year is: {self.year}, and the fuel type is: {self.fuel_type} )\"  \n",
    "\n",
    "\n",
    "class Motorcycle(Vehicle):\n",
    "    def __init__(self, engine_capacity, fuel_type, make=\"UNKNOWN\", model=\"UNKNOWN\", year=0):\n",
    "        super().__init__(make, model, year)\n",
    "        self.fuel_type = fuel_type\n",
    "        self.engine_capacity = engine_capacity\n",
    "\n",
    "        \n",
    "    def motorcycle_info(self):\n",
    "        return f\"MOTORCYCLE INFO ( Make: {self.make}, And the Model is: {self.model}, Car year is: {self.year}, and the fuel type is: {self.fuel_type}, and the Engin Capacity is {self.engine_capacity} ).\"    \n",
    "\n",
    "\n",
    "car_1 = Car(fuel_type=\"Octane grade 95 fuel\", make=\"LiftBack\", model=\"VANTOM\", year=2024)\n",
    "bike_1 = Motorcycle(engine_capacity=\"1000 CC\", fuel_type=\"Octane grade 95 fuel\", make=\"RACE\", model=\"Kawasaki H2\", year=2023)\n",
    "\n",
    "print(\"car_1: \",car_1.car_info())\n",
    "print(\"bike_1: \",bike_1.motorcycle_info())"
   ]
  }
 ],
 "metadata": {
  "kernelspec": {
   "display_name": "Python 3",
   "language": "python",
   "name": "python3"
  },
  "language_info": {
   "codemirror_mode": {
    "name": "ipython",
    "version": 3
   },
   "file_extension": ".py",
   "mimetype": "text/x-python",
   "name": "python",
   "nbconvert_exporter": "python",
   "pygments_lexer": "ipython3",
   "version": "3.12.8"
  }
 },
 "nbformat": 4,
 "nbformat_minor": 2
}
